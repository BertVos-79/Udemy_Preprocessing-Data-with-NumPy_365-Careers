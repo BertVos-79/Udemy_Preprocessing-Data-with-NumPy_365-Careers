{
 "cells": [
  {
   "cell_type": "markdown",
   "metadata": {},
   "source": [
    "# NumPy Fundamentals\n",
    "\n",
    "1. Indexing\n",
    "2. Assigning Values\n",
    "3. Elementwise Properties\n",
    "4. Types of Data Supported by NumPy\n",
    "5. Characteristics of NumPy Functions (Broadcasting & Typecasting)\n"
   ]
  },
  {
   "cell_type": "code",
   "execution_count": 1,
   "metadata": {},
   "outputs": [],
   "source": [
    "import numpy as np"
   ]
  },
  {
   "cell_type": "markdown",
   "metadata": {},
   "source": [
    "## 1. Indexing"
   ]
  },
  {
   "cell_type": "code",
   "execution_count": 2,
   "metadata": {},
   "outputs": [
    {
     "data": {
      "text/plain": [
       "array([[1, 2, 3],\n",
       "       [4, 5, 6]])"
      ]
     },
     "execution_count": 2,
     "metadata": {},
     "output_type": "execute_result"
    }
   ],
   "source": [
    "array_a = np.array([[1,2,3],[4,5,6]]) # define a 2-D array\n",
    "array_a"
   ]
  },
  {
   "cell_type": "markdown",
   "metadata": {},
   "source": [
    "### Indexing Rows ('Elements')"
   ]
  },
  {
   "cell_type": "code",
   "execution_count": 3,
   "metadata": {},
   "outputs": [
    {
     "data": {
      "text/plain": [
       "array([1, 2, 3])"
      ]
     },
     "execution_count": 3,
     "metadata": {},
     "output_type": "execute_result"
    }
   ],
   "source": [
    "array_a[0] # first row with zero-indexing"
   ]
  },
  {
   "cell_type": "code",
   "execution_count": 4,
   "metadata": {},
   "outputs": [
    {
     "data": {
      "text/plain": [
       "array([4, 5, 6])"
      ]
     },
     "execution_count": 4,
     "metadata": {},
     "output_type": "execute_result"
    }
   ],
   "source": [
    "array_a[1] # second row"
   ]
  },
  {
   "cell_type": "markdown",
   "metadata": {},
   "source": [
    "### Indexing Columns"
   ]
  },
  {
   "cell_type": "code",
   "execution_count": 5,
   "metadata": {},
   "outputs": [
    {
     "data": {
      "text/plain": [
       "array([1, 4])"
      ]
     },
     "execution_count": 5,
     "metadata": {},
     "output_type": "execute_result"
    }
   ],
   "source": [
    "array_a[:,0] # select all rows & first column"
   ]
  },
  {
   "cell_type": "code",
   "execution_count": 6,
   "metadata": {},
   "outputs": [
    {
     "data": {
      "text/plain": [
       "array([3, 6])"
      ]
     },
     "execution_count": 6,
     "metadata": {},
     "output_type": "execute_result"
    }
   ],
   "source": [
    "array_a[:,2] # select all rows & last column"
   ]
  },
  {
   "cell_type": "markdown",
   "metadata": {},
   "source": [
    "### Indexing Specific Values ('Individual Elements')"
   ]
  },
  {
   "cell_type": "code",
   "execution_count": 7,
   "metadata": {},
   "outputs": [
    {
     "data": {
      "text/plain": [
       "np.int64(2)"
      ]
     },
     "execution_count": 7,
     "metadata": {},
     "output_type": "execute_result"
    }
   ],
   "source": [
    "array_a[0][1] # method 1: idem as lists"
   ]
  },
  {
   "cell_type": "code",
   "execution_count": 8,
   "metadata": {},
   "outputs": [
    {
     "name": "stdout",
     "output_type": "stream",
     "text": [
      "2\n"
     ]
    }
   ],
   "source": [
    "print(array_a[0][1])"
   ]
  },
  {
   "cell_type": "code",
   "execution_count": 9,
   "metadata": {},
   "outputs": [
    {
     "data": {
      "text/plain": [
       "np.int64(2)"
      ]
     },
     "execution_count": 9,
     "metadata": {},
     "output_type": "execute_result"
    }
   ],
   "source": [
    "array_a[0,1] # method 2: specific to ndarrays"
   ]
  },
  {
   "cell_type": "code",
   "execution_count": 10,
   "metadata": {},
   "outputs": [
    {
     "name": "stdout",
     "output_type": "stream",
     "text": [
      "2\n"
     ]
    }
   ],
   "source": [
    "print(array_a[0,1])"
   ]
  },
  {
   "cell_type": "markdown",
   "metadata": {},
   "source": [
    "### HOWEVER:\n",
    "\n",
    "Key Difference Between [ ][ ] and [,] Indexing\n",
    "\n",
    "#### 1. [,] (Tuple Indexing):\n",
    "\n",
    "This is the standard NumPy multidimensional indexing method.\n",
    "You specify all indices in one go, separated by commas, which allows NumPy to treat them as part of the same operation.\n",
    "\n",
    "    Example: array_3D[0, 0] directly accesses the element at position (0, 0).\n",
    "\n",
    "#### 2. [ ][ ] (Chained Indexing):\n",
    "\n",
    "\n",
    "This is not true multidimensional indexing; instead, it retrieves one dimension at a time.\n",
    "    \n",
    "Example: array_3D[0][0] first retrieves the \"slice\" at array_3D[0], which is a 2D array, and then applies [0] to that result.\n",
    "\n",
    "    This introduces subtle differences when dealing with slices or higher dimensions.\n",
    "\n",
    "\n",
    "\n",
    "#### Ex. Equal Cases\n",
    "In the following cases, both methods yield the same result:\n",
    "\n",
    "\n",
    "``` \n",
    "    # Example array\n",
    "    array_3D = np.array([\n",
    "        [[1, 2, 3, 4, 5], [11, 21, 31, 41, 51]],\n",
    "        [[11, 12, 13, 14, 15], [51, 52, 53, 54, 5]]\n",
    "    ])\n",
    "\n",
    "\n",
    "\n",
    "    array_3D[0][0] == array_3D[0, 0]\n",
    "    # Both return: [1, 2, 3, 4, 5]\n",
    "\n",
    "    array_3D[0][:1] == array_3D[0, :1]\n",
    "    # Both return: [[1, 2, 3, 4, 5]]\n",
    " ```\n",
    "\n",
    "\n",
    "In these cases, array_3D[0] first extracts the 2D array at index 0, and further indexing [0] or [:1] operates on that intermediate 2D array. This is equivalent to specifying the full indexing tuple directly as array_3D[0, 0] or array_3D[0, :1].\n",
    "\n",
    "\n",
    "\n",
    "#### Ex. Unequal Case\n",
    "\n",
    "\n",
    "array_3D[:1][:1] != array_3D[:1, :1]\n",
    "\n",
    "```\n",
    "    # Chained indexing\n",
    "    print(array_3D[:1][:1])  # Output: [[[1, 2, 3, 4, 5], [11, 21, 31, 41, 51]]]\n",
    "\n",
    "    # Tuple indexing\n",
    "    print(array_3D[:1, :1])  # Output: [[[1, 2, 3, 4, 5]]]\n",
    "````\n",
    "\n",
    "\n",
    "#### Key Takeaways:\n",
    "\n",
    "1. Chained Indexing ([]): Applies indexing step-by-step and operates on intermediate results.\n",
    "\n",
    "    Example: array_3D[:1] produces a slice; another [:1] operates on this new slice.\n",
    "\n",
    "\n",
    "2. Tuple Indexing ([,]): Directly applies multidimensional indexing to the array in one step.\n",
    "\n",
    "    Example: array_3D[:1, :1] extracts a slice in a single operation.\n",
    "\n",
    "#### Always prefer tuple indexing ([,]) for multidimensional arrays to avoid ambiguity or unintended results. "
   ]
  },
  {
   "cell_type": "markdown",
   "metadata": {},
   "source": [
    "### Indexing Backwards with Negative Indices"
   ]
  },
  {
   "cell_type": "code",
   "execution_count": 11,
   "metadata": {},
   "outputs": [
    {
     "name": "stdout",
     "output_type": "stream",
     "text": [
      "3\n"
     ]
    }
   ],
   "source": [
    "print(array_a[0][-1]) # negative indexing starts at -1"
   ]
  },
  {
   "cell_type": "code",
   "execution_count": 12,
   "metadata": {},
   "outputs": [
    {
     "name": "stdout",
     "output_type": "stream",
     "text": [
      "[4 5 6]\n"
     ]
    }
   ],
   "source": [
    "print(array_a[-1])"
   ]
  },
  {
   "cell_type": "code",
   "execution_count": 13,
   "metadata": {},
   "outputs": [
    {
     "name": "stdout",
     "output_type": "stream",
     "text": [
      "[2 5]\n"
     ]
    }
   ],
   "source": [
    "print(array_a[:,-2])"
   ]
  },
  {
   "cell_type": "markdown",
   "metadata": {},
   "source": [
    "## 2. Assigning Values"
   ]
  },
  {
   "cell_type": "code",
   "execution_count": 14,
   "metadata": {},
   "outputs": [],
   "source": [
    "array_a[0][2] = 9 # alter individual element"
   ]
  },
  {
   "cell_type": "code",
   "execution_count": 15,
   "metadata": {},
   "outputs": [
    {
     "name": "stdout",
     "output_type": "stream",
     "text": [
      "[[1 2 9]\n",
      " [4 5 6]]\n"
     ]
    }
   ],
   "source": [
    "print(array_a)"
   ]
  },
  {
   "cell_type": "code",
   "execution_count": 16,
   "metadata": {},
   "outputs": [
    {
     "name": "stdout",
     "output_type": "stream",
     "text": [
      "[[9 9 9]\n",
      " [4 5 6]]\n"
     ]
    }
   ],
   "source": [
    "array_a[0] = 9 # alter first row with same value\n",
    "print(array_a)"
   ]
  },
  {
   "cell_type": "code",
   "execution_count": 17,
   "metadata": {},
   "outputs": [
    {
     "name": "stdout",
     "output_type": "stream",
     "text": [
      "[[7 9 9]\n",
      " [7 5 6]]\n"
     ]
    }
   ],
   "source": [
    "array_a[:,0] = 7 # alter first column with same value\n",
    "print(array_a) "
   ]
  },
  {
   "cell_type": "code",
   "execution_count": 18,
   "metadata": {},
   "outputs": [
    {
     "name": "stdout",
     "output_type": "stream",
     "text": [
      "[[ 8 13  8]\n",
      " [ 7  5  6]]\n"
     ]
    }
   ],
   "source": [
    "list_a = [8,13,8] # alter first row with different values\n",
    "\n",
    "array_a[0] = list_a\n",
    "print(array_a)"
   ]
  },
  {
   "cell_type": "code",
   "execution_count": 19,
   "metadata": {},
   "outputs": [
    {
     "data": {
      "text/plain": [
       "numpy.ndarray"
      ]
     },
     "execution_count": 19,
     "metadata": {},
     "output_type": "execute_result"
    }
   ],
   "source": [
    "type(array_a[0]) # array takes values, not type: first row of new array_a no longer a list"
   ]
  },
  {
   "cell_type": "code",
   "execution_count": 20,
   "metadata": {
    "scrolled": true
   },
   "outputs": [
    {
     "name": "stdout",
     "output_type": "stream",
     "text": [
      "[[9 9 9]\n",
      " [9 9 9]]\n"
     ]
    }
   ],
   "source": [
    "array_a[:] = 9 # alter all rows with same value\n",
    "print(array_a)"
   ]
  },
  {
   "cell_type": "code",
   "execution_count": 21,
   "metadata": {},
   "outputs": [
    {
     "data": {
      "text/plain": [
       "9"
      ]
     },
     "execution_count": 21,
     "metadata": {},
     "output_type": "execute_result"
    }
   ],
   "source": [
    "array_a = 9 # variable name in this case assigned to other type\n",
    "array_a"
   ]
  },
  {
   "cell_type": "code",
   "execution_count": 22,
   "metadata": {},
   "outputs": [
    {
     "data": {
      "text/plain": [
       "int"
      ]
     },
     "execution_count": 22,
     "metadata": {},
     "output_type": "execute_result"
    }
   ],
   "source": [
    "type(array_a)"
   ]
  },
  {
   "cell_type": "markdown",
   "metadata": {},
   "source": [
    "## 3. Elementwise Properties"
   ]
  },
  {
   "cell_type": "code",
   "execution_count": 23,
   "metadata": {},
   "outputs": [
    {
     "name": "stdout",
     "output_type": "stream",
     "text": [
      "list_a = \n",
      "\t\t[7, 8, 9] \n",
      "\n",
      "array_a = \n",
      "\t\t[7 8 9] \n",
      "\n",
      "array_b = \n",
      "\t\t[1 2 3] \n",
      "\t\t[4 5 6]\n"
     ]
    }
   ],
   "source": [
    "list_a = [7, 8, 9]\n",
    "print(f\"list_a = \\n\\t\\t{list_a} \\n\")\n",
    "\n",
    "\n",
    "array_a = np.array([7,8,9]) # assign 1-D and 2-D array\n",
    "print(f\"array_a = \\n\\t\\t{array_a} \\n\")\n",
    "\n",
    "array_b = np.array([[1,2,3],[4,5,6]])\n",
    "print(f\"array_b = \\n\\t\\t{array_b[0]} \\n\\t\\t{array_b[1]}\")"
   ]
  },
  {
   "cell_type": "code",
   "execution_count": 24,
   "metadata": {},
   "outputs": [
    {
     "data": {
      "text/plain": [
       "[7, 8, 9, 2]"
      ]
     },
     "execution_count": 24,
     "metadata": {},
     "output_type": "execute_result"
    }
   ],
   "source": [
    "# lists and arrays serve different purposes\n",
    "\n",
    "# purpose list is store data\n",
    "\n",
    "list_a + [2] # this operation adds element '2' to end of list as a whole"
   ]
  },
  {
   "cell_type": "code",
   "execution_count": 25,
   "metadata": {},
   "outputs": [
    {
     "data": {
      "text/plain": [
       "array([ 9, 10, 11])"
      ]
     },
     "execution_count": 25,
     "metadata": {},
     "output_type": "execute_result"
    }
   ],
   "source": [
    "# purpose ndarray is perform mathematical operations\n",
    "\n",
    "array_a + 2 # this operation computes sum of each individual element of ndarray and '2'"
   ]
  },
  {
   "cell_type": "code",
   "execution_count": 26,
   "metadata": {},
   "outputs": [
    {
     "data": {
      "text/plain": [
       "array([[3, 4, 5],\n",
       "       [6, 7, 8]])"
      ]
     },
     "execution_count": 26,
     "metadata": {},
     "output_type": "execute_result"
    }
   ],
   "source": [
    "array_b + 2"
   ]
  },
  {
   "cell_type": "code",
   "execution_count": 27,
   "metadata": {},
   "outputs": [
    {
     "data": {
      "text/plain": [
       "array([11, 13, 15])"
      ]
     },
     "execution_count": 27,
     "metadata": {},
     "output_type": "execute_result"
    }
   ],
   "source": [
    "array_a + array_b[1] # apart from scalar, we can also add another ndarray to ndarray\n",
    "# condition is that ndarrays are of same length and are compatible"
   ]
  },
  {
   "cell_type": "code",
   "execution_count": 28,
   "metadata": {},
   "outputs": [
    {
     "data": {
      "text/plain": [
       "array([[ 8, 10, 12],\n",
       "       [11, 13, 15]])"
      ]
     },
     "execution_count": 28,
     "metadata": {},
     "output_type": "execute_result"
    }
   ],
   "source": [
    "array_a + array_b"
   ]
  },
  {
   "cell_type": "code",
   "execution_count": 29,
   "metadata": {},
   "outputs": [
    {
     "data": {
      "text/plain": [
       "array([[6, 6, 6],\n",
       "       [3, 3, 3]])"
      ]
     },
     "execution_count": 29,
     "metadata": {},
     "output_type": "execute_result"
    }
   ],
   "source": [
    "array_a - array_b"
   ]
  },
  {
   "cell_type": "code",
   "execution_count": 30,
   "metadata": {
    "scrolled": true
   },
   "outputs": [
    {
     "data": {
      "text/plain": [
       "array([[ 7, 16, 27],\n",
       "       [28, 40, 54]])"
      ]
     },
     "execution_count": 30,
     "metadata": {},
     "output_type": "execute_result"
    }
   ],
   "source": [
    "array_a * array_b"
   ]
  },
  {
   "cell_type": "code",
   "execution_count": 31,
   "metadata": {},
   "outputs": [
    {
     "data": {
      "text/plain": [
       "array([[7.  , 4.  , 3.  ],\n",
       "       [1.75, 1.6 , 1.5 ]])"
      ]
     },
     "execution_count": 31,
     "metadata": {},
     "output_type": "execute_result"
    }
   ],
   "source": [
    "array_a / array_b"
   ]
  },
  {
   "cell_type": "markdown",
   "metadata": {},
   "source": [
    "## 4. Types of Data Supported by NumPy"
   ]
  },
  {
   "cell_type": "code",
   "execution_count": 32,
   "metadata": {},
   "outputs": [
    {
     "data": {
      "text/plain": [
       "array([[1., 2., 3.],\n",
       "       [4., 5., 6.]], dtype=float32)"
      ]
     },
     "execution_count": 32,
     "metadata": {},
     "output_type": "execute_result"
    }
   ],
   "source": [
    "array_b = np.array([[1,2,3],[4,5,6]], dtype = \"float32\") # specify desired datatype to float 32 when calling array()-function\n",
    "array_b"
   ]
  },
  {
   "cell_type": "code",
   "execution_count": 33,
   "metadata": {},
   "outputs": [
    {
     "data": {
      "text/plain": [
       "array([[1., 2., 3.],\n",
       "       [4., 5., 6.]], dtype=float32)"
      ]
     },
     "execution_count": 33,
     "metadata": {},
     "output_type": "execute_result"
    }
   ],
   "source": [
    "array_b = np.array([[1,2,3],[4,5,6]], dtype = np.float32) # equivalent way to determine dtype\n",
    "array_b"
   ]
  },
  {
   "cell_type": "code",
   "execution_count": 34,
   "metadata": {},
   "outputs": [
    {
     "data": {
      "text/plain": [
       "array([[1.+0.j, 2.+0.j, 3.+0.j],\n",
       "       [4.+0.j, 5.+0.j, 6.+0.j]], dtype=complex64)"
      ]
     },
     "execution_count": 34,
     "metadata": {},
     "output_type": "execute_result"
    }
   ],
   "source": [
    "array_b = np.array([[1,2,3],[4,5,6]], dtype = np.complex64) # set to complex number\n",
    "array_b"
   ]
  },
  {
   "cell_type": "code",
   "execution_count": 35,
   "metadata": {},
   "outputs": [
    {
     "data": {
      "text/plain": [
       "array([[ True,  True,  True],\n",
       "       [ True,  True,  True]])"
      ]
     },
     "execution_count": 35,
     "metadata": {},
     "output_type": "execute_result"
    }
   ],
   "source": [
    "array_b = np.array([[1,2,3],[4,5,6]], dtype = np.bool) # set to boolean value\n",
    "array_b"
   ]
  },
  {
   "cell_type": "code",
   "execution_count": 36,
   "metadata": {},
   "outputs": [
    {
     "data": {
      "text/plain": [
       "array([[ True,  True, False],\n",
       "       [ True,  True,  True]])"
      ]
     },
     "execution_count": 36,
     "metadata": {},
     "output_type": "execute_result"
    }
   ],
   "source": [
    "array_b = np.array([[1,2,0],[4,5,6]], dtype = np.bool) # in boolean anything equal to zero = False\n",
    "array_b"
   ]
  },
  {
   "cell_type": "code",
   "execution_count": 37,
   "metadata": {},
   "outputs": [
    {
     "data": {
      "text/plain": [
       "array([['1', '2', '3'],\n",
       "       ['4', '5', '6']], dtype='<U1')"
      ]
     },
     "execution_count": 37,
     "metadata": {},
     "output_type": "execute_result"
    }
   ],
   "source": [
    "array_b = np.array([[1,2,3],[4,5,6]], dtype = np.str_) # set to string; we see dtype = Unicode values of length up to 1\n",
    "array_b"
   ]
  },
  {
   "cell_type": "code",
   "execution_count": 38,
   "metadata": {},
   "outputs": [
    {
     "data": {
      "text/plain": [
       "array([['100', '2', '3'],\n",
       "       ['4', '5', '6']], dtype='<U3')"
      ]
     },
     "execution_count": 38,
     "metadata": {},
     "output_type": "execute_result"
    }
   ],
   "source": [
    "array_b = np.array([[100,2,3],[4,5,6]], dtype = np.str_) # if we change one of values to '100', we get dtype = Unicode values of length up to 3\n",
    "array_b"
   ]
  },
  {
   "cell_type": "markdown",
   "metadata": {},
   "source": [
    "https://numpy.org/devdocs/reference/generated/numpy.dtype.kind.html <- <i> A link to the documentation explaining the unicode abbreviation."
   ]
  },
  {
   "cell_type": "markdown",
   "metadata": {},
   "source": [
    "## 5. Characteristics of NumPy Functions"
   ]
  },
  {
   "cell_type": "markdown",
   "metadata": {},
   "source": [
    "### Universal Functions\n",
    "\n",
    "- work with ndarrays on elementwise basis\n",
    "- comprise mathematical, trigonometric, comparison functions\n",
    "- include broadcasting, typecasting & computing over a given axis"
   ]
  },
  {
   "cell_type": "markdown",
   "metadata": {},
   "source": [
    "https://numpy.org/devdocs/reference/ufuncs.html <- <i> A link to the documentation page on Universal Functions"
   ]
  },
  {
   "cell_type": "markdown",
   "metadata": {},
   "source": [
    "### Broadcasting\n",
    "\n",
    "- conduct elementwise operations on ndarrays of different shapes\n",
    "- 'stretch' smaller ndarry to size of larger ndarry\n",
    "\n",
    "\n",
    "#### Broadcasting rules:\n",
    "\n",
    "1. Same shape\n",
    "\n",
    "   if arrays have same shape, elementwise operations can be peformed directly"
   ]
  },
  {
   "cell_type": "markdown",
   "metadata": {},
   "source": [
    "2. Shape compatibility\n",
    "\n",
    "   if arrays do not have same shape, their shapes can be aligned if:\n",
    "   \n",
    "   a. arrays have same number of dimensions \n",
    "      (if not: see 3: smaller-dimensional array is 'prepended' with dimensions of size 1)\n",
    "      \n",
    "   b. size of each dimension is\n",
    "       - the same\n",
    "       - or 1 (in which case it can be broadcasted or 'stretched')"
   ]
  },
  {
   "cell_type": "markdown",
   "metadata": {},
   "source": [
    "3. Dimension alignment\n",
    "\n",
    "   arrays with different dimensions can have shape altered with dimension 1 to satisfy second rule"
   ]
  },
  {
   "cell_type": "code",
   "execution_count": 39,
   "metadata": {},
   "outputs": [
    {
     "name": "stdout",
     "output_type": "stream",
     "text": [
      "[[11 22 33]\n",
      " [44 55 66]]\n"
     ]
    }
   ],
   "source": [
    "# Example 1: Two arrays with the same shape \n",
    " \n",
    "a = np.array([[1, 2, 3], [4, 5, 6]])     # Shape: (2, 3)\n",
    "b = np.array([[10, 20, 30], [40, 50, 60]]) # Shape: (2, 3)\n",
    "\n",
    "result = a + b\n",
    "\n",
    "# '+' automatically performs 1 step: Element-wise addition\n",
    "\n",
    "print(result)"
   ]
  },
  {
   "cell_type": "code",
   "execution_count": 40,
   "metadata": {},
   "outputs": [
    {
     "name": "stdout",
     "output_type": "stream",
     "text": [
      "[[11 12 13]\n",
      " [21 22 23]\n",
      " [31 32 33]]\n"
     ]
    }
   ],
   "source": [
    "# Example 2: Two arrays with same number of dimensions, different shape, and dimension of size 1\n",
    "\n",
    "a = np.array([[1, 2, 3]])      # Shape: (1, 3)\n",
    "b = np.array([[10], [20], [30]]) # Shape: (3, 1)\n",
    "\n",
    "result = a + b\n",
    "\n",
    "# '+' automatically performs 2 steps:\n",
    "\n",
    "# Step 1: 'stretch' dimension of size 1 to larger-sized dimension of other array:\n",
    "\n",
    "#           a: (1, 3) -> (3, 3)\n",
    "#           b: (3, 1) -> (3, 3)\n",
    "\n",
    "# Step 2:  Element-wise addition\n",
    "\n",
    "print(result)"
   ]
  },
  {
   "cell_type": "code",
   "execution_count": 41,
   "metadata": {},
   "outputs": [
    {
     "name": "stdout",
     "output_type": "stream",
     "text": [
      "[[11 12 13]\n",
      " [21 22 23]\n",
      " [31 32 33]]\n"
     ]
    }
   ],
   "source": [
    "# Example 3: Two arrays with different dimensions and one array has dimension of size 1\n",
    "\n",
    "a = np.array([1, 2, 3])  # Shape: (3,)\n",
    "b = np.array([[10], [20], [30]])  # Shape: (3, 1)\n",
    "\n",
    "result = a + b\n",
    "\n",
    "# '+' automatically performs 3 steps:\n",
    "\n",
    "# step 1: prepend 'a' with dimension of size 1:\n",
    "\n",
    "#         from [1,2,3] to [[1,2,3],\n",
    "#         i.e. from shape (3,) to shape (1,3)\n",
    "\n",
    "# step 2: stretch dimension with value '1' of both 'a' and 'b' to \n",
    "#         the correspondent higher dimension of the other array, so that shapes match:\n",
    "\n",
    "#         a -> (3, 3)\n",
    "#         b -> (3, 3)\n",
    "\n",
    "# step 3: elementwise add each element of 'a' with each element of 'b'\n",
    "\n",
    "\n",
    "print(result)"
   ]
  },
  {
   "cell_type": "code",
   "execution_count": 42,
   "metadata": {},
   "outputs": [
    {
     "data": {
      "text/plain": [
       "array([1, 2, 3])"
      ]
     },
     "execution_count": 42,
     "metadata": {},
     "output_type": "execute_result"
    }
   ],
   "source": [
    "array_a = np.array([1, 2, 3])\n",
    "array_a"
   ]
  },
  {
   "cell_type": "code",
   "execution_count": 43,
   "metadata": {},
   "outputs": [
    {
     "data": {
      "text/plain": [
       "(3,)"
      ]
     },
     "execution_count": 43,
     "metadata": {},
     "output_type": "execute_result"
    }
   ],
   "source": [
    "array_a.shape"
   ]
  },
  {
   "cell_type": "code",
   "execution_count": 44,
   "metadata": {},
   "outputs": [
    {
     "data": {
      "text/plain": [
       "array([[1],\n",
       "       [2]])"
      ]
     },
     "execution_count": 44,
     "metadata": {},
     "output_type": "execute_result"
    }
   ],
   "source": [
    "array_b = np.array([[1],[2]])\n",
    "array_b"
   ]
  },
  {
   "cell_type": "code",
   "execution_count": 45,
   "metadata": {},
   "outputs": [
    {
     "data": {
      "text/plain": [
       "(2, 1)"
      ]
     },
     "execution_count": 45,
     "metadata": {},
     "output_type": "execute_result"
    }
   ],
   "source": [
    "array_b.shape"
   ]
  },
  {
   "cell_type": "code",
   "execution_count": 46,
   "metadata": {},
   "outputs": [
    {
     "data": {
      "text/plain": [
       "array([[1, 2, 3],\n",
       "       [4, 5, 6]])"
      ]
     },
     "execution_count": 46,
     "metadata": {},
     "output_type": "execute_result"
    }
   ],
   "source": [
    "matrix_C = np.array([[1,2,3],[4,5,6]])\n",
    "matrix_C"
   ]
  },
  {
   "cell_type": "code",
   "execution_count": 47,
   "metadata": {},
   "outputs": [
    {
     "data": {
      "text/plain": [
       "(2, 3)"
      ]
     },
     "execution_count": 47,
     "metadata": {},
     "output_type": "execute_result"
    }
   ],
   "source": [
    "matrix_C.shape"
   ]
  },
  {
   "cell_type": "code",
   "execution_count": 48,
   "metadata": {},
   "outputs": [
    {
     "data": {
      "text/plain": [
       "array([[2, 4, 6],\n",
       "       [5, 7, 9]])"
      ]
     },
     "execution_count": 48,
     "metadata": {},
     "output_type": "execute_result"
    }
   ],
   "source": [
    "np.add(array_a, matrix_C)\n",
    "\n",
    "# use universal function:\n",
    "# a) to prepend vector array_a with shape (3,) to shape (1,3)\n",
    "# b) stretch prepended vector array_a with shape (1,3) to shape (2,3) of matrix_C: [[1,2,3],[1,2,3]]\n",
    "# b) elementwise add stretched vector array_a to matrix_C: [[1+1,2+2,3+3],[1+4,2+5,3+6]]\n"
   ]
  },
  {
   "cell_type": "code",
   "execution_count": 49,
   "metadata": {},
   "outputs": [
    {
     "data": {
      "text/plain": [
       "array([[2, 3, 4],\n",
       "       [6, 7, 8]])"
      ]
     },
     "execution_count": 49,
     "metadata": {},
     "output_type": "execute_result"
    }
   ],
   "source": [
    "np.add(array_b, matrix_C)\n",
    "\n",
    "# use universal function:\n",
    "# a) to stretch vertical vector array_b with shape (2,1) to shape (2,3) of matrix_C: [[1,1,1],[2,2,2]]\n",
    "# b) to elementwise add stretched vector array_b to matrix_C: [[1+1,1+2,1+3],[1+4,1+5,1+6]]\n"
   ]
  },
  {
   "cell_type": "markdown",
   "metadata": {},
   "source": [
    "### Type Casting\n",
    "\n",
    "Converts every element in an array from one data type to another."
   ]
  },
  {
   "cell_type": "code",
   "execution_count": 50,
   "metadata": {},
   "outputs": [
    {
     "data": {
      "text/plain": [
       "array([[2., 3., 4.],\n",
       "       [6., 7., 8.]])"
      ]
     },
     "execution_count": 50,
     "metadata": {},
     "output_type": "execute_result"
    }
   ],
   "source": [
    "np.add(array_b, matrix_C, dtype = np.float64)"
   ]
  },
  {
   "cell_type": "markdown",
   "metadata": {},
   "source": [
    "### Running over an Axis\n",
    "\n",
    "1. NumPy breaks down an ND-array into smaller arrays of (N-1)-many dimensions.\n",
    "\n",
    "2. Applies the function to each one.\n",
    "\n",
    "We can use this feature to run a function along each row or column."
   ]
  },
  {
   "cell_type": "code",
   "execution_count": 51,
   "metadata": {},
   "outputs": [
    {
     "data": {
      "text/plain": [
       "array([[1, 2, 3],\n",
       "       [4, 5, 6]])"
      ]
     },
     "execution_count": 51,
     "metadata": {},
     "output_type": "execute_result"
    }
   ],
   "source": [
    "matrix_C"
   ]
  },
  {
   "cell_type": "code",
   "execution_count": 52,
   "metadata": {},
   "outputs": [
    {
     "data": {
      "text/plain": [
       "array([2.5, 3.5, 4.5])"
      ]
     },
     "execution_count": 52,
     "metadata": {},
     "output_type": "execute_result"
    }
   ],
   "source": [
    "np.mean(matrix_C, axis = 0) # find mean for every column"
   ]
  },
  {
   "cell_type": "code",
   "execution_count": 53,
   "metadata": {},
   "outputs": [
    {
     "data": {
      "text/plain": [
       "array([2., 5.])"
      ]
     },
     "execution_count": 53,
     "metadata": {},
     "output_type": "execute_result"
    }
   ],
   "source": [
    "np.mean(matrix_C, axis = 1) # find mean for each row"
   ]
  }
 ],
 "metadata": {
  "kernelspec": {
   "display_name": "Python 3 (ipykernel)",
   "language": "python",
   "name": "python3"
  },
  "language_info": {
   "codemirror_mode": {
    "name": "ipython",
    "version": 3
   },
   "file_extension": ".py",
   "mimetype": "text/x-python",
   "name": "python",
   "nbconvert_exporter": "python",
   "pygments_lexer": "ipython3",
   "version": "3.13.0"
  }
 },
 "nbformat": 4,
 "nbformat_minor": 2
}
