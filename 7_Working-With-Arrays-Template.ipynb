{
 "cells": [
  {
   "cell_type": "markdown",
   "metadata": {},
   "source": [
    "# Working with Arrays\n",
    "\n",
    "1. Slicing\n",
    "2. Dimensions and the squeeze()-function"
   ]
  },
  {
   "cell_type": "code",
   "execution_count": null,
   "metadata": {},
   "outputs": [],
   "source": [
    "import numpy as np"
   ]
  },
  {
   "cell_type": "markdown",
   "metadata": {},
   "source": [
    "## 1. Slicing"
   ]
  },
  {
   "cell_type": "code",
   "execution_count": null,
   "metadata": {},
   "outputs": [],
   "source": [
    "matrix_A = np.array([[1,2,3],[4,5,6]])\n",
    "matrix_A"
   ]
  },
  {
   "cell_type": "markdown",
   "metadata": {},
   "source": [
    "### Basic Slicing\n",
    "\n",
    "- Creating a new array by taking chunks of values out of an existing array.\n",
    "- Slices consist of adjacent pieces of data: consecutive rows and/or columns."
   ]
  },
  {
   "cell_type": "code",
   "execution_count": null,
   "metadata": {},
   "outputs": [],
   "source": [
    "matrix_A[:] # colon expresses interval of values starting from row before colon & ending before row after colon\n",
    "# here all rows are selected\n"
   ]
  },
  {
   "cell_type": "code",
   "execution_count": null,
   "metadata": {},
   "outputs": [],
   "source": [
    "matrix_A[0:1] # first row"
   ]
  },
  {
   "cell_type": "code",
   "execution_count": null,
   "metadata": {},
   "outputs": [],
   "source": [
    "matrix_A[0:0] # empty ndarray with 0 rows and 3 columns\n",
    "# however this is NOT a 0-dimensional array with shape ()\n",
    "# but a 2-dimensional array with shape (0,3)"
   ]
  },
  {
   "cell_type": "code",
   "execution_count": null,
   "metadata": {},
   "outputs": [],
   "source": [
    "matrix_A[0:5] # in slicing we get no error message when we slice beyond index values\n",
    "# just get maximum amount of rows"
   ]
  },
  {
   "cell_type": "code",
   "execution_count": null,
   "metadata": {},
   "outputs": [],
   "source": [
    "matrix_A[:1] # again only first row"
   ]
  },
  {
   "cell_type": "code",
   "execution_count": null,
   "metadata": {},
   "outputs": [],
   "source": [
    "matrix_A[:2] # entire matrix as we include all rows"
   ]
  },
  {
   "cell_type": "code",
   "execution_count": null,
   "metadata": {},
   "outputs": [],
   "source": [
    "matrix_A[2:] # again 0-D array as we start slicing beyond index range for rows"
   ]
  },
  {
   "cell_type": "code",
   "execution_count": null,
   "metadata": {},
   "outputs": [],
   "source": [
    "matrix_A[0] #specific indexing, only 1 pair of brackets: 1-D slice"
   ]
  },
  {
   "cell_type": "code",
   "execution_count": null,
   "metadata": {},
   "outputs": [],
   "source": [
    "matrix_A[:1] #interval indexing or slicing of 2-D array = 2-D slice w 2 pairs of brackets"
   ]
  },
  {
   "cell_type": "code",
   "execution_count": null,
   "metadata": {},
   "outputs": [],
   "source": [
    "matrix_A[:-1] # also possible to use negative slicing"
   ]
  },
  {
   "cell_type": "code",
   "execution_count": null,
   "metadata": {},
   "outputs": [],
   "source": [
    "matrix_A[:,:] # select all rows and all columns"
   ]
  },
  {
   "cell_type": "code",
   "execution_count": null,
   "metadata": {},
   "outputs": [],
   "source": [
    "matrix_A[:,1:] # select all rows, and columns starting at 2nd column"
   ]
  },
  {
   "cell_type": "code",
   "execution_count": null,
   "metadata": {},
   "outputs": [],
   "source": [
    "matrix_A[1:,1:] # select 2nd row, select 2nd & 3th columns"
   ]
  },
  {
   "cell_type": "markdown",
   "metadata": {},
   "source": [
    "### Stepwise Slicing\n",
    "\n",
    "- Slices consist of non-adjacent pieces of data\n",
    "- Slices are a certain distance/step apart"
   ]
  },
  {
   "cell_type": "code",
   "execution_count": null,
   "metadata": {},
   "outputs": [],
   "source": [
    "matrix_B = np.array([[1,1,1,2,0],[3,6,6,7,4],[4,5,3,8,0]])\n",
    "matrix_B"
   ]
  },
  {
   "cell_type": "code",
   "execution_count": null,
   "metadata": {},
   "outputs": [],
   "source": [
    "matrix_B[:,:] # all rows and all columns"
   ]
  },
  {
   "cell_type": "code",
   "execution_count": null,
   "metadata": {},
   "outputs": [],
   "source": [
    "matrix_B[::,::] # idem output, but step added: matrix_B[start:end:step,start:end:step]  "
   ]
  },
  {
   "cell_type": "code",
   "execution_count": null,
   "metadata": {},
   "outputs": [],
   "source": [
    "matrix_B[::2,::] # step set to 1 by default, but we can adjust: start at row at index 0, and end at row 2"
   ]
  },
  {
   "cell_type": "code",
   "execution_count": null,
   "metadata": {},
   "outputs": [],
   "source": [
    "matrix_B[::2,::2] # select every 2nd row & every 2nd column"
   ]
  },
  {
   "cell_type": "code",
   "execution_count": null,
   "metadata": {},
   "outputs": [],
   "source": [
    "matrix_B[::0,::0] # step cannot be zero as we would remain stuck at starting position"
   ]
  },
  {
   "cell_type": "code",
   "execution_count": null,
   "metadata": {},
   "outputs": [],
   "source": [
    "matrix_B[::-1,::2] # negative step is possible|starts at bottom of array & moves up \n",
    "# first row shown is last row in original array"
   ]
  },
  {
   "cell_type": "markdown",
   "metadata": {},
   "source": [
    "### Conditional Slicing\n",
    "\n",
    "select values on basis of conditions:\n",
    "\n",
    "- <, >, >=, <=, !=, ==, %, %2 = 0\n",
    "- & = \"and\", | = \"or\""
   ]
  },
  {
   "cell_type": "code",
   "execution_count": null,
   "metadata": {},
   "outputs": [],
   "source": [
    "matrix_C = np.array([[1,1,1,2,0],[3,6,6,7,4],[4,5,3,8,0]])\n",
    "matrix_C"
   ]
  },
  {
   "cell_type": "code",
   "execution_count": null,
   "metadata": {},
   "outputs": [],
   "source": [
    "matrix_C[:,0] # slice 1st column"
   ]
  },
  {
   "cell_type": "code",
   "execution_count": null,
   "metadata": {},
   "outputs": [],
   "source": [
    "matrix_C[:,0] > 2 # add condition & an array of boolean values is returned"
   ]
  },
  {
   "cell_type": "code",
   "execution_count": null,
   "metadata": {},
   "outputs": [],
   "source": [
    "matrix_C[:,:] > 2  "
   ]
  },
  {
   "cell_type": "code",
   "execution_count": null,
   "metadata": {},
   "outputs": [],
   "source": [
    "matrix_C[matrix_C[:,:] > 2] # to slice only those elements for which condition is True:\n",
    "# put condition within square brackets\n",
    "# output is 1-D array"
   ]
  },
  {
   "cell_type": "code",
   "execution_count": null,
   "metadata": {},
   "outputs": [],
   "source": [
    "matrix_C[(matrix_C[:,:] % 2 == 0) & (matrix_C[:,:] <= 4)]\n",
    "# multiple conditions: put each condition in between round brackets () (), connect with &"
   ]
  },
  {
   "cell_type": "code",
   "execution_count": null,
   "metadata": {},
   "outputs": [],
   "source": [
    "matrix_C[(matrix_C[:,:] % 2 == 0) | (matrix_C[:,:] <= 4)]"
   ]
  },
  {
   "cell_type": "markdown",
   "metadata": {},
   "source": [
    "## 2. Dimensions and the Squeeze Function\n",
    "\n",
    "The squeeze() method/function is a powerful tool to simplify the shape of arrays by removing unnecessary dimensions of size 1, making them easier to work with while preserving the data structure.\n",
    "\n",
    "\n",
    "- function: np.squeeze(variable_name)\n",
    "- method: variable_name.squeeze()\n",
    "\n",
    "\n",
    "Key Features of squeeze():\n",
    "\n",
    "1. Removes Dimensions with Size 1:\n",
    "\n",
    "    For example, an array with shape (1, 3, 1, 5) can be squeezed to (3, 5).\n",
    "    \n",
    "    \n",
    "    \n",
    "2. Does Not Modify the Original Array:\n",
    "\n",
    "    It returns a new array with the reduced dimensions, leaving the original array unchanged.\n",
    "    \n",
    "    \n",
    "\n",
    "3. Control Specific Axes (Optional):\n",
    "\n",
    "    You can specify which dimension(s) to remove by passing the axis parameter. If the specified axis does not have size 1, an error is raised."
   ]
  },
  {
   "cell_type": "code",
   "execution_count": null,
   "metadata": {},
   "outputs": [],
   "source": [
    "matrix_D = np.array([[1,1,1,2,0],[3,6,6,7,4],[4,5,3,8,0]])\n",
    "matrix_D"
   ]
  },
  {
   "cell_type": "code",
   "execution_count": null,
   "metadata": {},
   "outputs": [],
   "source": [
    "type(matrix_D[0,0]) # specific indexing: first element of matrix recognized as an integer"
   ]
  },
  {
   "cell_type": "code",
   "execution_count": null,
   "metadata": {},
   "outputs": [],
   "source": [
    "print(matrix_D[0,0]) # 0-D array: a scalar"
   ]
  },
  {
   "cell_type": "code",
   "execution_count": null,
   "metadata": {},
   "outputs": [],
   "source": [
    "type(matrix_D[0,0:1]) \n",
    "# interval indexing/slicing of columns: \n",
    "# first element of matrix becomes an array even if it only contains 1 element"
   ]
  },
  {
   "cell_type": "code",
   "execution_count": null,
   "metadata": {},
   "outputs": [],
   "source": [
    "print(matrix_D[0,0:1]) # 1-D array: depending on the way we index the type changes "
   ]
  },
  {
   "cell_type": "code",
   "execution_count": null,
   "metadata": {},
   "outputs": [],
   "source": [
    "type(matrix_D[0:1,0:1]) # interval indexing/slicing of rows and columns"
   ]
  },
  {
   "cell_type": "code",
   "execution_count": null,
   "metadata": {},
   "outputs": [],
   "source": [
    "print(matrix_D[0:1,0:1]) # 2-D array"
   ]
  },
  {
   "cell_type": "code",
   "execution_count": null,
   "metadata": {},
   "outputs": [],
   "source": [
    "print(matrix_D[0,0].shape) # no shape, a scalar\n",
    "print(matrix_D[0,0:1].shape) # 1-D array, a vector\n",
    "print(matrix_D[0:1,0:1].shape) # 2-D array, a matrix containing just 1 element\n",
    "\n",
    "# value is same in 3 cases, but type matters as certain functions can only\n",
    "# be executed with inputs of a fixed size"
   ]
  },
  {
   "cell_type": "code",
   "execution_count": null,
   "metadata": {},
   "outputs": [],
   "source": [
    "matrix_D[0:1,0:1].squeeze() # squeeze returns simple numerical value"
   ]
  },
  {
   "cell_type": "code",
   "execution_count": null,
   "metadata": {},
   "outputs": [],
   "source": [
    "type(matrix_D[0:1,0:1].squeeze()) # however, this is not a scalar, but a 0-D array"
   ]
  },
  {
   "cell_type": "code",
   "execution_count": null,
   "metadata": {},
   "outputs": [],
   "source": [
    " matrix_D[0:1,0:1].squeeze().shape # indeed: no shape"
   ]
  },
  {
   "cell_type": "code",
   "execution_count": null,
   "metadata": {},
   "outputs": [],
   "source": [
    "np.squeeze(matrix_D[0:1,0:1]) # instead of method we can also use function"
   ]
  },
  {
   "cell_type": "code",
   "execution_count": null,
   "metadata": {},
   "outputs": [],
   "source": [
    "print(matrix_D[0,0].squeeze().shape) # no shape, a scalar # attention: introduce method before attribute!\n",
    "print(matrix_D[0,0:1].squeeze().shape) # also a scalar\n",
    "print(matrix_D[0:1,0:1].squeeze().shape) # also a scalar"
   ]
  },
  {
   "cell_type": "code",
   "execution_count": null,
   "metadata": {},
   "outputs": [],
   "source": []
  }
 ],
 "metadata": {
  "kernelspec": {
   "display_name": "Python 3 (ipykernel)",
   "language": "python",
   "name": "python3"
  },
  "language_info": {
   "codemirror_mode": {
    "name": "ipython",
    "version": 3
   },
   "file_extension": ".py",
   "mimetype": "text/x-python",
   "name": "python",
   "nbconvert_exporter": "python",
   "pygments_lexer": "ipython3",
   "version": "3.13.0"
  }
 },
 "nbformat": 4,
 "nbformat_minor": 2
}
